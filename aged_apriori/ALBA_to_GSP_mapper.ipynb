{
 "cells": [
  {
   "cell_type": "code",
   "execution_count": 51,
   "metadata": {},
   "outputs": [],
   "source": [
    "import pandas as pd\n",
    "import numpy as np\n",
    "\n",
    "from utils import temporal_from_strings\n",
    "from temporal_mining import augment_by_column\n",
    "from datasets import generate_dataset_from_user\n",
    "from data_classes import PMDataFitbitDataset"
   ]
  },
  {
   "attachments": {},
   "cell_type": "markdown",
   "metadata": {},
   "source": [
    "# Generate augmented dataset"
   ]
  },
  {
   "cell_type": "code",
   "execution_count": 52,
   "metadata": {},
   "outputs": [
    {
     "name": "stderr",
     "output_type": "stream",
     "text": [
      "c:\\Users\\the_h\\Desktop\\POSTDOC\\FITBIT\\CODE\\aged_apriori\\datasets.py:32: SettingWithCopyWarning: \n",
      "A value is trying to be set on a copy of a slice from a DataFrame.\n",
      "Try using .loc[row_indexer,col_indexer] = value instead\n",
      "\n",
      "See the caveats in the documentation: https://pandas.pydata.org/pandas-docs/stable/user_guide/indexing.html#returning-a-view-versus-a-copy\n",
      "  sleep_quality_df['timestamp'] = sleep_quality_df['timestamp'].astype('datetime64')          # change type to allow later merge\n"
     ]
    }
   ],
   "source": [
    "user_index = 1\n",
    "temporal_window = 3\n",
    "dataset = generate_dataset_from_user(PMDataFitbitDataset(), user_index=user_index)\n",
    "temporal_dataset = temporal_from_strings(dataset)\n",
    "augmented_dataset = augment_by_column(temporal_dataset, temporal_window=temporal_window)"
   ]
  },
  {
   "attachments": {},
   "cell_type": "markdown",
   "metadata": {},
   "source": [
    "# Convert ALBA dataset to GSP notation"
   ]
  },
  {
   "cell_type": "code",
   "execution_count": 53,
   "metadata": {},
   "outputs": [],
   "source": [
    "ALBA_to_GSP_dict = {}\n",
    "GSP_to_ALBA_dict = {}\n",
    "seq_n = 0\n",
    "GSP_dataset = []\n",
    "sep = True\n",
    "for sequence in augmented_dataset:\n",
    "    GSP_sequence = []\n",
    "    previous_item_timeloc = sequence[0].timeloc\n",
    "    for item in sequence:\n",
    "        if previous_item_timeloc != item.timeloc and sep:\n",
    "            previous_item_timeloc = item.timeloc\n",
    "            GSP_sequence.append(-1)\n",
    "        if item not in ALBA_to_GSP_dict:\n",
    "            ALBA_to_GSP_dict[item] = seq_n\n",
    "            GSP_to_ALBA_dict[seq_n] = item\n",
    "            GSP_sequence.append(seq_n)\n",
    "            seq_n += 1\n",
    "        else:\n",
    "            GSP_sequence.append(ALBA_to_GSP_dict[item])\n",
    "    GSP_sequence.append(-1)\n",
    "    GSP_sequence.append(-2)\n",
    "    GSP_dataset.append(GSP_sequence)\n",
    "\n",
    "text_dataset = []\n",
    "for sequence in GSP_dataset:\n",
    "    line = ''\n",
    "    for item in sequence:\n",
    "        line += str(item) + ' '\n",
    "    text_dataset.append(line.strip() + '\\n')\n",
    "\n"
   ]
  },
  {
   "cell_type": "code",
   "execution_count": 54,
   "metadata": {},
   "outputs": [],
   "source": [
    "#maybe we could also write the GSP_to_ALBA_dict to a file and load it later\n",
    "with open('for_GSP.txt', 'w+') as f:\n",
    "    for line in text_dataset:\n",
    "        f.writelines(line)"
   ]
  },
  {
   "attachments": {},
   "cell_type": "markdown",
   "metadata": {},
   "source": [
    "# Convert GSP results to ALBA notation"
   ]
  },
  {
   "cell_type": "code",
   "execution_count": 85,
   "metadata": {},
   "outputs": [],
   "source": [
    "results = []\n",
    "with open('res.txt', 'r') as f:\n",
    "    results = f.readlines()\n"
   ]
  },
  {
   "cell_type": "code",
   "execution_count": 87,
   "metadata": {},
   "outputs": [],
   "source": [
    "def res_line_to_GSP_seq(line: str) -> list[int]:\n",
    "    seq = line.split('#')[0]\n",
    "    int_seq = [int(x) for x in seq.strip().split(' ') if x != '-1']\n",
    "    supp = int(line.split('#')[1].strip().split(':')[1].strip())\n",
    "    return int_seq, supp\n",
    "\n",
    "ALBA_res = []\n",
    "supp_list = []\n",
    "for line in results:\n",
    "    GSP_seq, supp = res_line_to_GSP_seq(line)\n",
    "    ALBA_seq = []\n",
    "    for GSP_item in GSP_seq:\n",
    "        ALBA_item = GSP_to_ALBA_dict[GSP_item]\n",
    "        ALBA_seq.append(ALBA_item)\n",
    "    ALBA_res.append(ALBA_seq)\n",
    "    supp_list.append(supp)\n"
   ]
  },
  {
   "cell_type": "code",
   "execution_count": 89,
   "metadata": {},
   "outputs": [
    {
     "name": "stdout",
     "output_type": "stream",
     "text": [
      "[LA_2_t0] :  46\n",
      "[MA_2_t0] :  46\n",
      "[HA_1_t0] :  46\n",
      "[R_2_t0] :  46\n",
      "[ZL_3_t0] :  46\n",
      "[LA_2_t1] :  46\n",
      "[MA_2_t1] :  46\n",
      "[HA_1_t1] :  46\n",
      "[R_2_t1] :  46\n",
      "[ZL_3_t1] :  45\n"
     ]
    }
   ],
   "source": [
    "for i in range(10):\n",
    "    print(ALBA_res[i], ': ', supp_list[i])"
   ]
  },
  {
   "cell_type": "code",
   "execution_count": null,
   "metadata": {},
   "outputs": [],
   "source": []
  }
 ],
 "metadata": {
  "kernelspec": {
   "display_name": "Python 3",
   "language": "python",
   "name": "python3"
  },
  "language_info": {
   "codemirror_mode": {
    "name": "ipython",
    "version": 3
   },
   "file_extension": ".py",
   "mimetype": "text/x-python",
   "name": "python",
   "nbconvert_exporter": "python",
   "pygments_lexer": "ipython3",
   "version": "3.10.5"
  },
  "orig_nbformat": 4,
  "vscode": {
   "interpreter": {
    "hash": "0d2a0190e168d940ea5f294111b0a04e037ae58622fb23d68e3a05bb94442a72"
   }
  }
 },
 "nbformat": 4,
 "nbformat_minor": 2
}
